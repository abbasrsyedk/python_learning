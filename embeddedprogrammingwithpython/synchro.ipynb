{
 "metadata": {
  "language_info": {
   "codemirror_mode": {
    "name": "ipython",
    "version": 3
   },
   "file_extension": ".py",
   "mimetype": "text/x-python",
   "name": "python",
   "nbconvert_exporter": "python",
   "pygments_lexer": "ipython3",
   "version": 3
  },
  "orig_nbformat": 2
 },
 "nbformat": 4,
 "nbformat_minor": 2,
 "cells": [
  {
   "cell_type": "code",
   "execution_count": null,
   "metadata": {},
   "outputs": [],
   "source": [
    "def notgate(k):\n",
    "    if k == 0:\n",
    "        k = 1\n",
    "    else:\n",
    "        k = 0\n",
    "    return k\n"
   ]
  },
  {
   "cell_type": "code",
   "execution_count": null,
   "metadata": {},
   "outputs": [],
   "source": [
    "def delay(n):\n",
    "    k = 0;\n",
    "    for i in range(1,n,1):\n",
    "        for j in range(1,1000,1):\n",
    "            k = k + 1        \n",
    "    return 0"
   ]
  },
  {
   "cell_type": "code",
   "execution_count": null,
   "metadata": {},
   "outputs": [],
   "source": [
    "def jkflipflop(j,k):\n",
    "    out = 0\n",
    "    if j == 0 and k == 0:\n",
    "        out = out\n",
    "    elif j == 0 and k == 1:\n",
    "        out = 0\n",
    "    elif j == 1 and k == 0:\n",
    "        out = 1\n",
    "    else:\n",
    "        out = notgate(out)\n",
    "    return out"
   ]
  },
  {
   "cell_type": "code",
   "execution_count": null,
   "metadata": {},
   "outputs": [],
   "source": [
    "\n",
    "if __name__=='__main__':\n",
    "    pre_clk = 0\n",
    "    cur_clk = 1\n",
    "    res = 0\n",
    "    i = 1\n",
    "    while i<20:\n",
    "        if pre_clk == 0 and cur_clk == 0\n",
    "            res = jkflipflop(0,0)\n",
    "        else:\n",
    "            pre_clk == 0 and cur_clk == 1\n",
    "            res = jkflipflop(0,1)\n",
    "        else:\n",
    "            pre_clk == 1 and cur_clk == 0\n",
    "            res = jkflipflop(1,0)\n",
    "        else:\n",
    "            pre_clk == 1 and cur_clk == 1\n",
    "            res = jkflipflop(1,1)\n",
    "\n",
    "\n",
    "\n",
    "        pre_clk = notgate(pre_clk)\n",
    "        cur_clk = notgate(cur_clk)\n",
    "        print(res)\n",
    "        print(clk)\n",
    "        i = i + 1"
   ]
  },
  {
   "cell_type": "code",
   "execution_count": null,
   "metadata": {},
   "outputs": [],
   "source": [
    "def alu(a,b):\n",
    "    \n",
    "\n"
   ]
  }
 ]
}
{
 "metadata": {
  "language_info": {
   "codemirror_mode": {
    "name": "ipython",
    "version": 3
   },
   "file_extension": ".py",
   "mimetype": "text/x-python",
   "name": "python",
   "nbconvert_exporter": "python",
   "pygments_lexer": "ipython3",
   "version": 3
  },
  "orig_nbformat": 2
 },
 "nbformat": 4,
 "nbformat_minor": 2,
 "cells": [
  {
   "cell_type": "code",
   "execution_count": null,
   "metadata": {},
   "outputs": [],
   "source": [
    "def single_bit_or(a, b):\n",
    "\t'''\n",
    "\ta: single bit, 1 or 0\n",
    "\tb: single bit, 1 or 0\n",
    "\t'''\n",
    "\n",
    "\tif a == 1 or b == 1:\n",
    "\t\treturn 1\n",
    "\telse:\n",
    "\t\treturn 0"
   ]
  },
  {
   "cell_type": "code",
   "execution_count": null,
   "metadata": {},
   "outputs": [],
   "source": [
    "def single_bit_not(a):\n",
    "\t'''\n",
    "\ta: single bit, 1 or 0\n",
    "\t'''\n",
    "\n",
    "\tif a == 1:\n",
    "\t\treturn 0\n",
    "\telif a == 0:\n",
    "\t\treturn 1\n",
    "\t\t\t\t"
   ]
  },
  {
   "cell_type": "code",
   "execution_count": null,
   "metadata": {},
   "outputs": [],
   "source": [
    "def single_bit_and(a, b):\n",
    "\t'''\n",
    "\ta: single bit, 1 or 0\n",
    "\tb: single bit, 1 or 0\n",
    "\t'''\n",
    "\n",
    "\tif a == 1 and b == 1:\n",
    "\t\treturn 1\n",
    "\telse:\n",
    "\t\treturn 0\n",
    "\t\t\t\t\n",
    "\n",
    "#>>> single_bit_and(1, 0)\n",
    "#>>> 0\n",
    "\n",
    "#>>> single_bit_or(1, 0)\n",
    "#>>> 1\n",
    "\n",
    "#>>> single_bit_not(1)\n",
    "#>>> 0\n",
    "\n",
    "#>>> single_bit_and(1, 1)\n",
    "#>>> 1"
   ]
  },
  {
   "cell_type": "code",
   "execution_count": null,
   "metadata": {},
   "outputs": [],
   "source": [
    "def single_bit_xor(a, b):\n",
    "\t'''\n",
    "\ta: single bit, 1 or 0\n",
    "\tb: single bit, 1 or 0\n",
    "\t'''\n",
    "\n",
    "\tif a == b:\n",
    "\t\treturn 0\n",
    "\telse:\n",
    "\t\treturn 1"
   ]
  },
  {
   "cell_type": "code",
   "execution_count": null,
   "metadata": {},
   "outputs": [],
   "source": [
    "def sixteen_bit_not(a16):\n",
    "\t'''\n",
    "\ta16: binary number, formatted as list [0, 0, 0, 1, 0, 1, 0, 0, 1, 1, 0, 0, 1, 1, 1, 1]\n",
    "\n",
    "\tFlip bits of all inputs\n",
    "\t'''\n",
    "\treturn [single_bit_not(bit) for bit in a16]"
   ]
  },
  {
   "cell_type": "code",
   "execution_count": null,
   "metadata": {},
   "outputs": [],
   "source": [
    "def sixteen_bit_and(a16, b16):\n",
    "\t'''\n",
    "\ta16: binary number, formatted as list [0, 0, 0, 1, 0, 1, 0, 0, 1, 1, 0, 0, 1, 1, 1, 1]\n",
    "\tb16: binary number, formatted as list [1, 0, 0, 0, 0, 1, 0, 0, 1, 1, 0, 0, 1, 0, 1, 1]\n",
    "\n",
    "\tBinary AND bits of all inputs\n",
    "\t'''\n",
    "\tout = []\n",
    "\tfor i, b in enumerate(a16):\n",
    "\t\tout.append(single_bit_and(a16[i], b16[i]))\n",
    "\n",
    "\treturn out"
   ]
  },
  {
   "cell_type": "code",
   "execution_count": null,
   "metadata": {},
   "outputs": [],
   "source": [
    "def sixteen_bit_mux(a16, b16, sel):\n",
    "\t'''\n",
    "\ta16: binary number, formatted as list [0, 0, 0, 1, 0, 1, 0, 0, 1, 1, 0, 0, 1, 1, 1, 1]\n",
    "\tb16: binary number, formatted as list [0, 0, 0, 1, 0, 1, 0, 0, 1, 1, 0, 0, 1, 1, 1, 1]\n",
    "\n",
    "\tIf selector bit (sel) == 0, return a16\n",
    "\tElse return b16\n",
    "\t'''\n",
    "\n",
    "\tif sel == 0:\n",
    "\t\treturn a16\n",
    "\telse:\n",
    "\t\treturn b16"
   ]
  },
  {
   "cell_type": "code",
   "execution_count": null,
   "metadata": {},
   "outputs": [],
   "source": [
    "def half_adder(a, b):\n",
    "\t'''\n",
    "\tOutputs:\n",
    "\tsum: right bit of a + b\n",
    "\tcarry: left bit of a + b\n",
    "\t'''\n",
    "\tsum = single_bit_xor(a, b)\n",
    "\tcarry = single_bit_and(a, b)\n",
    "\n",
    "\treturn sum, carry"
   ]
  },
  {
   "cell_type": "code",
   "execution_count": null,
   "metadata": {},
   "outputs": [],
   "source": [
    "def full_adder(a, b, right_carry):\n",
    "\t'''\n",
    "\tOutputs:\n",
    "\tsum: right bit of a + b + right_carry\n",
    "\tcarry: left bit of a + b + right_carry\n",
    "\t'''\n",
    "\n",
    "\tright_sum, carry1 = half_adder(a, b)\n",
    "\tsum, carry2 = half_adder(right_sum, right_carry)\n",
    "\tcarry = single_bit_or(carry1, carry2)\n",
    "\t\n",
    "\treturn sum, carry"
   ]
  },
  {
   "cell_type": "code",
   "execution_count": null,
   "metadata": {},
   "outputs": [],
   "source": [
    "def full_adder(a, b, right_carry):\n",
    "\t'''\n",
    "\tOutputs:\n",
    "\tsum: right bit of a + b + right_carry\n",
    "\tcarry: left bit of a + b + right_carry\n",
    "\t'''\n",
    "\tsum = single_bit_xor(a, b)\n",
    "\tcarry = single_bit_and(a, b)\n",
    "\n",
    "\treturn sum, carry\n",
    "\n",
    "\tright_sum, carry1 = half_adder(a, b)\n",
    "\tsum, carry2 = half_adder(right_sum, right_carry)\n",
    "\tcarry = single_bit_or(carry1, carry2)\n",
    "\t\n",
    "\treturn sum, carry"
   ]
  },
  {
   "cell_type": "code",
   "execution_count": null,
   "metadata": {},
   "outputs": [],
   "source": [
    "def sixteen_bit_adder(a16, b16):\n",
    "\t'''\n",
    "\tOutputs:\n",
    "\tsum: a sixteen-bit-sum of two numbers\n",
    "\n",
    "\tDiscard the most significant carry bit. \n",
    "\t'''\n",
    "\tsum = [0, 0, 0, 0, 0, 0, 0, 0, 0, 0, 0, 0, 0, 0, 0, 0]\n",
    "\n",
    "\tsum[0], carry0 = half_adder(a[0], b[0])\n",
    "\tsum[1], carry1 = full_adder(a[1], b[1], carry0)\n",
    "\tsum[2], carry2 = full_adder(a[2], b[2], carry1)\n",
    "\tsum[3], carry3 = full_adder(a[3], b[3], carry2)\n",
    "\tsum[4], carry4 = full_adder(a[4], b[4], carry3)\n",
    "\tsum[5], carry5 = full_adder(a[5], b[5], carry4)\n",
    "\tsum[6], carry6 = full_adder(a[6], b[6], carry5)\n",
    "\tsum[7], carry7 = full_adder(a[7], b[7], carry6)\n",
    "\tsum[8], carry8 = full_adder(a[8], b[8], carry7)\n",
    "\tsum[9], carry9 = full_adder(a[9], b[9], carry8)\n",
    "\tsum[10], carry10 = full_adder(a[10], b[10], carry9)\n",
    "\tsum[11], carry11 = full_adder(a[11], b[11], carry10)\n",
    "\tsum[12], carry12 = full_adder(a[12], b[12], carry11)\n",
    "\tsum[13], carry13 = full_adder(a[13], b[13], carry12)\n",
    "\tsum[14], carry14 = full_adder(a[14], b[14], carry13)\n",
    "\tsum[15], carry15 = full_adder(a[15], b[15], carry14)\n",
    "\n",
    "\treturn sum"
   ]
  },
  {
   "cell_type": "code",
   "execution_count": null,
   "metadata": {},
   "outputs": [],
   "source": [
    "def alu(x16, y16, zx, nx, zy, ny, f, no):\n",
    "\t'''\n",
    "\tInputs:\n",
    "\n",
    "\tx16, y16,  # 16-bit inputs        \n",
    "    zx, # zero the x input?\n",
    "    nx, # negate the x input?\n",
    "    zy, # zero the y input?\n",
    "    ny, # negate the y input?\n",
    "    f,  # compute out = x + y (if 1) or x & y (if 0)\n",
    "    no; # negate the out output?\n",
    "\n",
    "    Outputs:\n",
    "    out16 # 16-bit output\n",
    "    zr # 1 if output is zero\n",
    "    ng # 1 if output is negative \n",
    "    '''\n",
    "\n",
    "    all_zeroes = [0,0,0,0,0,0,0,0,0,0,0,0,0,0,0,0]"
   ]
  },
  {
   "cell_type": "code",
   "execution_count": null,
   "metadata": {},
   "outputs": [],
   "source": [
    "def alu(x16, y16, zx, nx, zy, ny, f, no):\n",
    "\t...\n",
    "    ### determine the X to use\n",
    "\n",
    "    # zero the x if zx is set, else output incoming x\n",
    "    zerox = sixteen_bit_mux(a16=x16, b16=all_zeroes, sel=zx)\n",
    "\n",
    "    # not the x\n",
    "    notx = sixteen_bit_not(x16)\n",
    "\n",
    "    usex = sixteen_bit_mux(a16=zerox, b16=notx, sel=nx)"
   ]
  },
  {
   "cell_type": "code",
   "execution_count": null,
   "metadata": {},
   "outputs": [],
   "source": [
    "def alu(x16, y16, zx, nx, zy, ny, f, no):\n",
    "\t...\n",
    "    ### determine the Y to use\n",
    "\n",
    "    # zero the y if zy is set, else output incoming y\n",
    "    zeroy = sixteen_bit_mux(a16=y16, b16=all_zeroes, sel=zy)\n",
    "\n",
    "    # not the y\n",
    "    noty = sixteen_bit_not(y16)\n",
    "\n",
    "    usey = sixteen_bit_mux(a16=zeroy, b16=noty, sel=ny)"
   ]
  },
  {
   "cell_type": "code",
   "execution_count": null,
   "metadata": {},
   "outputs": [],
   "source": [
    "def alu(x16, y16, zx, nx, zy, ny, f, no):\n",
    "\t...\n",
    "    ### compute the Fs\n",
    "\n",
    "    addxy = sixteen_bit_adder(a16=usex, b16=usey)\n",
    "    andxy = sixteen_bit_and(a16=usex, b16=usey)\n",
    "\n",
    "    posout = sixteen_bit_mux(a16=addxy, b16=addxy, sel=f, out=posout)\n",
    "    negout = sixteen_bit_not(posout)\n",
    "\n",
    "    out16 = sixteen_bit_mux(a16=posout, b16=negout, sel=no)\n",
    "    ng = out16[15]\n",
    "    \t\t\t"
   ]
  },
  {
   "cell_type": "code",
   "execution_count": null,
   "metadata": {},
   "outputs": [],
   "source": [
    "def alu(x16, y16, zx, nx, zy, ny, f, no):\n",
    "\t...\n",
    "    ### determine if output is zero\n",
    "    ### out16 == all_zeroes\n",
    "    c1 = single_bit_or(out16[0], out16[1])\n",
    "    c2 = single_bit_or(out16[2], out16[3])\n",
    "    c3 = single_bit_or(out16[4], out16[5])\n",
    "    c4 = single_bit_or(out16[6], out16[7])\n",
    "    c5 = single_bit_or(out16[8], out16[9])\n",
    "    c6 = single_bit_or(out16[10], out16[11])\n",
    "    c7 = single_bit_or(out16[12], out16[13])\n",
    "    c8 = single_bit_or(out16[14], out16[15])\n",
    "\n",
    "    c9 = single_bit_or(c1, c2)\n",
    "    c10 = single_bit_or(c3, c4)\n",
    "    c11 = single_bit_or(c5, c6)\n",
    "    c12 = single_bit_or(c7, c8)\n",
    "    c13 = single_bit_or(c9, c10)\n",
    "    c14 = single_bit_or(c11, c12)\n",
    "    check = single_bit_or(c13, c14)\n",
    "\n",
    "    zr = single_bit_not(check)\n",
    "\n",
    "    return out16, zr, ng"
   ]
  }
 ]
}
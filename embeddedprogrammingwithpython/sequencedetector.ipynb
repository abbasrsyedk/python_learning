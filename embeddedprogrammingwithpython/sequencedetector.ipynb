{
 "metadata": {
  "language_info": {
   "codemirror_mode": {
    "name": "ipython",
    "version": 3
   },
   "file_extension": ".py",
   "mimetype": "text/x-python",
   "name": "python",
   "nbconvert_exporter": "python",
   "pygments_lexer": "ipython3",
   "version": "3.9.0-final"
  },
  "orig_nbformat": 2,
  "kernelspec": {
   "name": "python3",
   "display_name": "Python 3.9.0 64-bit",
   "metadata": {
    "interpreter": {
     "hash": "00fe96ce4d3c83e8917c7e8e00e32f6360975ca1203d76996e204391b46d917e"
    }
   }
  }
 },
 "nbformat": 4,
 "nbformat_minor": 2,
 "cells": [
  {
   "cell_type": "code",
   "execution_count": 11,
   "metadata": {},
   "outputs": [],
   "source": [
    "#18bec7011_R.S.K.ABBAS\n",
    "#SEQUENCE DETECTOR\n",
    "\n",
    "def nott(k):\n",
    "    if k == 0:\n",
    "        k = 1\n",
    "    else:\n",
    "        k = 0\n",
    "    return k\n",
    "\n",
    "def Dflipflop1(D,clk):\n",
    "    if clk==1:\n",
    "        if D==1:\n",
    "            Q=1\n",
    "            return int(Q)\n",
    "        else:\n",
    "            Q=0\n",
    "            return int(Q)\n",
    "def Dflipflop2(D,clk):\n",
    "    if clk==1:\n",
    "        if D==1:\n",
    "            Q=1\n",
    "            return int(Q)\n",
    "        else:\n",
    "            Q=0\n",
    "            return int(Q)\n",
    "\n"
   ]
  },
  {
   "cell_type": "code",
   "execution_count": 16,
   "metadata": {},
   "outputs": [
    {
     "output_type": "stream",
     "name": "stdout",
     "text": [
      "Sequence Detector\nd2 | d1 | y\n-----------\n0  | 1 |  0\n1  | 0 |  0\n0  | 0 |  1\n0  | 0 |  0\n0  | 1 |  0\n1  | 0 |  0\n0  | 0 |  1\n0  | 0 |  0\n0  | 1 |  0\n1  | 0 |  0\n0  | 0 |  1\n0  | 0 |  0\n"
     ]
    }
   ],
   "source": [
    "if __name__=='__main__':\n",
    "    Q1=0\n",
    "    Q2=0\n",
    "    d1=0\n",
    "    d2=0\n",
    "    x = [1,0,1,0,1,0,1,0,1,0,1,0]\n",
    "    y=1\n",
    "    print(\"Sequence Detector\")\n",
    "    print('d2 | d1 | y')\n",
    "    print('-----------')\n",
    "    \n",
    "    for i in range(12):\n",
    "        \n",
    "        d1=(nott(Q2) and x[i])\n",
    "        d2=(Q1 and nott(x[i]))\n",
    "        \n",
    "        y=(Q2 and x[i])\n",
    "        \n",
    "        print(Dflipflop1(d2,1),' |' ,Dflipflop1(d1,1), '| ',y)\n",
    "        Q2=Dflipflop2(d2,1)\n",
    "        Q1=Dflipflop1(d1,1)\n",
    "        "
   ]
  },
  {
   "cell_type": "code",
   "execution_count": null,
   "metadata": {},
   "outputs": [],
   "source": []
  }
 ]
}
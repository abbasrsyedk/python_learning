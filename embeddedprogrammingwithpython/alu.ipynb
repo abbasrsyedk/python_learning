{
 "metadata": {
  "language_info": {
   "codemirror_mode": {
    "name": "ipython",
    "version": 3
   },
   "file_extension": ".py",
   "mimetype": "text/x-python",
   "name": "python",
   "nbconvert_exporter": "python",
   "pygments_lexer": "ipython3",
   "version": 3
  },
  "orig_nbformat": 2
 },
 "nbformat": 4,
 "nbformat_minor": 2,
 "cells": [
  {
   "cell_type": "code",
   "execution_count": null,
   "metadata": {},
   "outputs": [],
   "source": [
    "def single_bit_or(a, b):\n",
    "\t'''\n",
    "\ta: single bit, 1 or 0\n",
    "\tb: single bit, 1 or 0\n",
    "\t'''\n",
    "\n",
    "\tif a == 1 or b == 1:\n",
    "\t\treturn 1\n",
    "\telse:\n",
    "\t\treturn 0"
   ]
  },
  {
   "cell_type": "code",
   "execution_count": null,
   "metadata": {},
   "outputs": [],
   "source": [
    "def single_bit_not(a):\n",
    "\t'''\n",
    "\ta: single bit, 1 or 0\n",
    "\t'''\n",
    "\n",
    "\tif a == 1:\n",
    "\t\treturn 0\n",
    "\telif a == 0:\n",
    "\t\treturn 1"
   ]
  },
  {
   "cell_type": "code",
   "execution_count": null,
   "metadata": {},
   "outputs": [],
   "source": [
    "def single_bit_xor(a, b):\n",
    "\t'''\n",
    "\ta: single bit, 1 or 0\n",
    "\tb: single bit, 1 or 0\n",
    "\t'''\n",
    "\n",
    "\tif a == b:\n",
    "\t\treturn 0\n",
    "\telse:\n",
    "\t\treturn 1"
   ]
  },
  {
   "cell_type": "code",
   "execution_count": null,
   "metadata": {},
   "outputs": [],
   "source": [
    "def single_bit_and(a, b):\n",
    "\t'''\n",
    "\ta: single bit, 1 or 0\n",
    "\tb: single bit, 1 or 0\n",
    "\t'''\n",
    "\n",
    "\tif a == 1 and b == 1:\n",
    "\t\treturn 1\n",
    "\telse:\n",
    "\t\treturn 0\n",
    "\t\t\t\t\n",
    "\n",
    "#>>> single_bit_and(1, 0)\n",
    "#>>> 0\n",
    "\n",
    "#>>> single_bit_or(1, 0)\n",
    "#>>> 1\n",
    "\n",
    "#>>> single_bit_not(1)\n",
    "#>>> 0\n",
    "\n",
    "#>>> single_bit_and(1, 1)\n",
    "#>>> 1"
   ]
  },
  {
   "cell_type": "code",
   "execution_count": null,
   "metadata": {},
   "outputs": [],
   "source": []
  }
 ]
}